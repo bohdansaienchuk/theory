{
 "cells": [
  {
   "cell_type": "markdown",
   "id": "3f83e3ab",
   "metadata": {},
   "source": [
    "## nbconvert installation"
   ]
  },
  {
   "cell_type": "markdown",
   "id": "c0c5b1f9",
   "metadata": {},
   "source": [
    "\n",
    "\n",
    "    * install TeX from site https://nbconvert.readthedocs.io/en/latest/install.html#installing-tex\n",
    "\n",
    "        Pyppeteer makes use of a specific version of Chromium. If it does not find a suitable installation of the web browser, it can automatically download it if the **--allow-chromium-download** flag is passed to the command line.\n",
    "\n",
    "    documentation by link https://anaconda.org/anaconda/nbconvert"
   ]
  }
 ],
 "metadata": {
  "kernelspec": {
   "display_name": "Python 3 (ipykernel)",
   "language": "python",
   "name": "python3"
  },
  "language_info": {
   "codemirror_mode": {
    "name": "ipython",
    "version": 3
   },
   "file_extension": ".py",
   "mimetype": "text/x-python",
   "name": "python",
   "nbconvert_exporter": "python",
   "pygments_lexer": "ipython3",
   "version": "3.9.7"
  },
  "toc": {
   "base_numbering": 1,
   "nav_menu": {},
   "number_sections": true,
   "sideBar": true,
   "skip_h1_title": false,
   "title_cell": "Table of Contents",
   "title_sidebar": "Contents",
   "toc_cell": false,
   "toc_position": {},
   "toc_section_display": true,
   "toc_window_display": false
  }
 },
 "nbformat": 4,
 "nbformat_minor": 5
}
