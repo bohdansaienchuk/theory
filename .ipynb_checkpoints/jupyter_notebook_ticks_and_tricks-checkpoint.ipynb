{
 "cells": [
  {
   "cell_type": "markdown",
   "id": "9bf5f367",
   "metadata": {
    "slideshow": {
     "slide_type": "skip"
    }
   },
   "source": [
    "# Content\n",
    "* [Run terminal commands in cell](#Run-terminal-commands-in-cell)\n",
    "* [Changing pandas dysplay options](#Changing-pandas-dysplay-options)\n",
    "* [Settings up alerts when cells finished](#Settings-up-alerts-when-cells-finished)\n",
    "* [Slideshow](#Slideshow)\n",
    "* [](#)"
   ]
  },
  {
   "cell_type": "markdown",
   "id": "48f37d5c",
   "metadata": {
    "slideshow": {
     "slide_type": "skip"
    }
   },
   "source": [
    "## Run terminal commands in cell\n",
    "\n",
    "    ! pip install\n",
    "\n",
    "    ! cd folder_name; ls\n",
    "\n",
    "[move to the content](#Content)"
   ]
  },
  {
   "cell_type": "markdown",
   "id": "82f9166f",
   "metadata": {
    "slideshow": {
     "slide_type": "skip"
    }
   },
   "source": [
    "## Changing pandas dysplay options\n",
    "\n",
    "    pd.options.display.max_rows = 200\n",
    "    pd.options.display.max_columns = 20\n",
    "    pd.options.display.max_colwidth = 50\n",
    "    pd.options.display.precision = 2\n",
    "\n",
    "[move to the content](#Content)"
   ]
  },
  {
   "cell_type": "markdown",
   "id": "d6c044fe",
   "metadata": {
    "slideshow": {
     "slide_type": "skip"
    }
   },
   "source": [
    "## Settings up alerts when cells finished\n",
    "\n",
    "    !pip install jupyternotify\n",
    "    \n",
    "    %load_ext jupyternotify\n",
    "    \n",
    "    %%notify\n",
    "    \n",
    "    import time\n",
    "    import random\n",
    "    \n",
    "    r = random.randint(30, 60)\n",
    "    time.sleep(r)\n",
    "    \n",
    "    print('Cell finished executed')\n",
    "\n",
    "[move to the content](#Content)"
   ]
  },
  {
   "cell_type": "markdown",
   "id": "e315b144",
   "metadata": {
    "slideshow": {
     "slide_type": "skip"
    }
   },
   "source": [
    "## Slideshow\n",
    "\n",
    "    view -> cell toolbar -> slideshow\n",
    "\n",
    "[move to the content](#Content)"
   ]
  },
  {
   "cell_type": "markdown",
   "id": "539f0800",
   "metadata": {
    "slideshow": {
     "slide_type": "skip"
    }
   },
   "source": [
    "## \n",
    "\n",
    "    \n",
    "\n",
    "[move to the content](#Content)"
   ]
  },
  {
   "cell_type": "code",
   "execution_count": 2,
   "id": "73c50f03",
   "metadata": {
    "slideshow": {
     "slide_type": "skip"
    }
   },
   "outputs": [],
   "source": [
    "import matplotlib.pyplot as plt\n",
    "import numpy as np"
   ]
  },
  {
   "cell_type": "code",
   "execution_count": 7,
   "id": "b84ed79d",
   "metadata": {
    "slideshow": {
     "slide_type": "subslide"
    }
   },
   "outputs": [
    {
     "data": {
      "image/png": "[encoded data removed]",
      "text/plain": [
       "<Figure size 432x432 with 1 Axes>"
      ]
     },
     "metadata": {
      "needs_background": "light"
     },
     "output_type": "display_data"
    }
   ],
   "source": [
    "fig, ax = plt.subplots(figsize=(6, 6))\n",
    "\n",
    "ax.plot(np.arange(1, 6), np.random.randint(1, 5, size=5))\n",
    "\n",
    "plt.show()"
   ]
  },
  {
   "cell_type": "markdown",
   "id": "15d81719",
   "metadata": {
    "slideshow": {
     "slide_type": "skip"
    }
   },
   "source": [
    "## \n",
    "\n",
    "    \n",
    "\n",
    "[move to the content](#Content)"
   ]
  },
  {
   "cell_type": "markdown",
   "id": "66090a41",
   "metadata": {
    "slideshow": {
     "slide_type": "skip"
    }
   },
   "source": []
  }
 ],
 "metadata": {
  "celltoolbar": "Slideshow",
  "kernelspec": {
   "display_name": "Python 3 (ipykernel)",
   "language": "python",
   "name": "python3"
  },
  "language_info": {
   "codemirror_mode": {
    "name": "ipython",
    "version": 3
   },
   "file_extension": ".py",
   "mimetype": "text/x-python",
   "name": "python",
   "nbconvert_exporter": "python",
   "pygments_lexer": "ipython3",
   "version": "3.9.7"
  },
  "toc": {
   "base_numbering": 1,
   "nav_menu": {},
   "number_sections": true,
   "sideBar": true,
   "skip_h1_title": false,
   "title_cell": "Table of Contents",
   "title_sidebar": "Contents",
   "toc_cell": false,
   "toc_position": {},
   "toc_section_display": true,
   "toc_window_display": false
  }
 },
 "nbformat": 4,
 "nbformat_minor": 5
}
